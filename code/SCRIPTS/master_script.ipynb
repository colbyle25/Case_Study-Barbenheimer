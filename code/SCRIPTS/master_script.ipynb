{
 "cells": [
  {
   "attachments": {},
   "cell_type": "markdown",
   "metadata": {},
   "source": [
    "# Master Script\n",
    "## Run me to run all scripts in the correct order"
   ]
  },
  {
   "cell_type": "code",
   "execution_count": 1,
   "metadata": {},
   "outputs": [
    {
     "name": "stdout",
     "output_type": "stream",
     "text": [
      "Requirement already satisfied: nbconvert in /Users/colby/miniconda3/lib/python3.11/site-packages (7.16.0)\n",
      "Requirement already satisfied: beautifulsoup4 in /Users/colby/miniconda3/lib/python3.11/site-packages (from nbconvert) (4.12.2)\n",
      "Requirement already satisfied: bleach!=5.0.0 in /Users/colby/miniconda3/lib/python3.11/site-packages (from nbconvert) (6.1.0)\n",
      "Requirement already satisfied: defusedxml in /Users/colby/miniconda3/lib/python3.11/site-packages (from nbconvert) (0.7.1)\n",
      "Requirement already satisfied: jinja2>=3.0 in /Users/colby/miniconda3/lib/python3.11/site-packages (from nbconvert) (3.1.3)\n",
      "Requirement already satisfied: jupyter-core>=4.7 in /Users/colby/miniconda3/lib/python3.11/site-packages (from nbconvert) (5.3.0)\n",
      "Requirement already satisfied: jupyterlab-pygments in /Users/colby/miniconda3/lib/python3.11/site-packages (from nbconvert) (0.3.0)\n",
      "Requirement already satisfied: markupsafe>=2.0 in /Users/colby/miniconda3/lib/python3.11/site-packages (from nbconvert) (2.1.5)\n",
      "Requirement already satisfied: mistune<4,>=2.0.3 in /Users/colby/miniconda3/lib/python3.11/site-packages (from nbconvert) (3.0.2)\n",
      "Requirement already satisfied: nbclient>=0.5.0 in /Users/colby/miniconda3/lib/python3.11/site-packages (from nbconvert) (0.9.0)\n",
      "Requirement already satisfied: nbformat>=5.7 in /Users/colby/miniconda3/lib/python3.11/site-packages (from nbconvert) (5.9.2)\n",
      "Requirement already satisfied: packaging in /Users/colby/miniconda3/lib/python3.11/site-packages (from nbconvert) (23.2)\n",
      "Requirement already satisfied: pandocfilters>=1.4.1 in /Users/colby/miniconda3/lib/python3.11/site-packages (from nbconvert) (1.5.1)\n",
      "Requirement already satisfied: pygments>=2.4.1 in /Users/colby/miniconda3/lib/python3.11/site-packages (from nbconvert) (2.15.1)\n",
      "Requirement already satisfied: tinycss2 in /Users/colby/miniconda3/lib/python3.11/site-packages (from nbconvert) (1.2.1)\n",
      "Requirement already satisfied: traitlets>=5.1 in /Users/colby/miniconda3/lib/python3.11/site-packages (from nbconvert) (5.7.1)\n",
      "Requirement already satisfied: six>=1.9.0 in /Users/colby/miniconda3/lib/python3.11/site-packages (from bleach!=5.0.0->nbconvert) (1.16.0)\n",
      "Requirement already satisfied: webencodings in /Users/colby/miniconda3/lib/python3.11/site-packages (from bleach!=5.0.0->nbconvert) (0.5.1)\n",
      "Requirement already satisfied: platformdirs>=2.5 in /Users/colby/miniconda3/lib/python3.11/site-packages (from jupyter-core>=4.7->nbconvert) (3.10.0)\n",
      "Requirement already satisfied: jupyter-client>=6.1.12 in /Users/colby/miniconda3/lib/python3.11/site-packages (from nbclient>=0.5.0->nbconvert) (8.1.0)\n",
      "Requirement already satisfied: fastjsonschema in /Users/colby/miniconda3/lib/python3.11/site-packages (from nbformat>=5.7->nbconvert) (2.18.1)\n",
      "Requirement already satisfied: jsonschema>=2.6 in /Users/colby/miniconda3/lib/python3.11/site-packages (from nbformat>=5.7->nbconvert) (4.19.2)\n",
      "Requirement already satisfied: soupsieve>1.2 in /Users/colby/miniconda3/lib/python3.11/site-packages (from beautifulsoup4->nbconvert) (2.4.1)\n",
      "Requirement already satisfied: attrs>=22.2.0 in /Users/colby/miniconda3/lib/python3.11/site-packages (from jsonschema>=2.6->nbformat>=5.7->nbconvert) (23.1.0)\n",
      "Requirement already satisfied: jsonschema-specifications>=2023.03.6 in /Users/colby/miniconda3/lib/python3.11/site-packages (from jsonschema>=2.6->nbformat>=5.7->nbconvert) (2023.7.1)\n",
      "Requirement already satisfied: referencing>=0.28.4 in /Users/colby/miniconda3/lib/python3.11/site-packages (from jsonschema>=2.6->nbformat>=5.7->nbconvert) (0.30.2)\n",
      "Requirement already satisfied: rpds-py>=0.7.1 in /Users/colby/miniconda3/lib/python3.11/site-packages (from jsonschema>=2.6->nbformat>=5.7->nbconvert) (0.12.0)\n",
      "Requirement already satisfied: python-dateutil>=2.8.2 in /Users/colby/miniconda3/lib/python3.11/site-packages (from jupyter-client>=6.1.12->nbclient>=0.5.0->nbconvert) (2.8.2)\n",
      "Requirement already satisfied: pyzmq>=23.0 in /Users/colby/miniconda3/lib/python3.11/site-packages (from jupyter-client>=6.1.12->nbclient>=0.5.0->nbconvert) (25.1.0)\n",
      "Requirement already satisfied: tornado>=6.2 in /Users/colby/miniconda3/lib/python3.11/site-packages (from jupyter-client>=6.1.12->nbclient>=0.5.0->nbconvert) (6.3.2)\n",
      "Note: you may need to restart the kernel to use updated packages.\n",
      "Requirement already satisfied: nbclient in /Users/colby/miniconda3/lib/python3.11/site-packages (0.9.0)\n",
      "Requirement already satisfied: jupyter-client>=6.1.12 in /Users/colby/miniconda3/lib/python3.11/site-packages (from nbclient) (8.1.0)\n",
      "Requirement already satisfied: jupyter-core!=5.0.*,>=4.12 in /Users/colby/miniconda3/lib/python3.11/site-packages (from nbclient) (5.3.0)\n",
      "Requirement already satisfied: nbformat>=5.1 in /Users/colby/miniconda3/lib/python3.11/site-packages (from nbclient) (5.9.2)\n",
      "Requirement already satisfied: traitlets>=5.4 in /Users/colby/miniconda3/lib/python3.11/site-packages (from nbclient) (5.7.1)\n",
      "Requirement already satisfied: python-dateutil>=2.8.2 in /Users/colby/miniconda3/lib/python3.11/site-packages (from jupyter-client>=6.1.12->nbclient) (2.8.2)\n",
      "Requirement already satisfied: pyzmq>=23.0 in /Users/colby/miniconda3/lib/python3.11/site-packages (from jupyter-client>=6.1.12->nbclient) (25.1.0)\n",
      "Requirement already satisfied: tornado>=6.2 in /Users/colby/miniconda3/lib/python3.11/site-packages (from jupyter-client>=6.1.12->nbclient) (6.3.2)\n",
      "Requirement already satisfied: platformdirs>=2.5 in /Users/colby/miniconda3/lib/python3.11/site-packages (from jupyter-core!=5.0.*,>=4.12->nbclient) (3.10.0)\n",
      "Requirement already satisfied: fastjsonschema in /Users/colby/miniconda3/lib/python3.11/site-packages (from nbformat>=5.1->nbclient) (2.18.1)\n",
      "Requirement already satisfied: jsonschema>=2.6 in /Users/colby/miniconda3/lib/python3.11/site-packages (from nbformat>=5.1->nbclient) (4.19.2)\n",
      "Requirement already satisfied: attrs>=22.2.0 in /Users/colby/miniconda3/lib/python3.11/site-packages (from jsonschema>=2.6->nbformat>=5.1->nbclient) (23.1.0)\n",
      "Requirement already satisfied: jsonschema-specifications>=2023.03.6 in /Users/colby/miniconda3/lib/python3.11/site-packages (from jsonschema>=2.6->nbformat>=5.1->nbclient) (2023.7.1)\n",
      "Requirement already satisfied: referencing>=0.28.4 in /Users/colby/miniconda3/lib/python3.11/site-packages (from jsonschema>=2.6->nbformat>=5.1->nbclient) (0.30.2)\n",
      "Requirement already satisfied: rpds-py>=0.7.1 in /Users/colby/miniconda3/lib/python3.11/site-packages (from jsonschema>=2.6->nbformat>=5.1->nbclient) (0.12.0)\n",
      "Requirement already satisfied: six>=1.5 in /Users/colby/miniconda3/lib/python3.11/site-packages (from python-dateutil>=2.8.2->jupyter-client>=6.1.12->nbclient) (1.16.0)\n",
      "Note: you may need to restart the kernel to use updated packages.\n"
     ]
    }
   ],
   "source": [
    "%pip install nbconvert\n",
    "%pip install nbclient"
   ]
  },
  {
   "cell_type": "code",
   "execution_count": 2,
   "metadata": {},
   "outputs": [],
   "source": [
    "from nbconvert import PythonExporter\n",
    "import nbformat\n",
    "from nbclient import NotebookClient\n",
    "\n",
    "def run_notebook(notebook_path):\n",
    "    with open(notebook_path) as f:\n",
    "        nb = nbformat.read(f, as_version=4)\n",
    "    \n",
    "    exporter = PythonExporter()\n",
    "    source, _ = exporter.from_notebook_node(nb)\n",
    "    \n",
    "    client = NotebookClient(nb)\n",
    "    client.execute()\n",
    "    return source"
   ]
  },
  {
   "attachments": {},
   "cell_type": "markdown",
   "metadata": {},
   "source": [
    "# Run Web Scraping"
   ]
  },
  {
   "cell_type": "code",
   "execution_count": null,
   "metadata": {},
   "outputs": [],
   "source": [
    "notebook_path = './queryFromRequests.ipynb'\n",
    "source_code = run_notebook(notebook_path)"
   ]
  },
  {
   "attachments": {},
   "cell_type": "markdown",
   "metadata": {},
   "source": [
    "# Run Sentiment Analysis"
   ]
  },
  {
   "cell_type": "code",
   "execution_count": 4,
   "metadata": {},
   "outputs": [
    {
     "name": "stderr",
     "output_type": "stream",
     "text": [
      "0.00s - Debugger warning: It seems that frozen modules are being used, which may\n",
      "0.00s - make the debugger miss breakpoints. Please pass -Xfrozen_modules=off\n",
      "0.00s - to python to disable frozen modules.\n",
      "0.00s - Note: Debugging will proceed. Set PYDEVD_DISABLE_FILE_VALIDATION=1 to disable this validation.\n",
      "2024-02-15 06:04:17.322339: I tensorflow/core/platform/cpu_feature_guard.cc:182] This TensorFlow binary is optimized to use available CPU instructions in performance-critical operations.\n",
      "To enable the following instructions: AVX2 AVX512F AVX512_VNNI FMA, in other operations, rebuild TensorFlow with the appropriate compiler flags.\n",
      "huggingface/tokenizers: The current process just got forked, after parallelism has already been used. Disabling parallelism to avoid deadlocks...\n",
      "To disable this warning, you can either:\n",
      "\t- Avoid using `tokenizers` before the fork if possible\n",
      "\t- Explicitly set the environment variable TOKENIZERS_PARALLELISM=(true | false)\n"
     ]
    },
    {
     "ename": "CellExecutionError",
     "evalue": "An error occurred while executing the following cell:\n------------------\n#data vis on barbie\nplt.figure(figsize=(8, 6))\nsentiment_counts = barbie_df['sentiment'].value_counts()\nbars = sentiment_counts.plot(kind='bar', color=['green', 'red', 'orange'])\n\n# Add count labels on bars\nfor bar in bars:\n    yval = bar.get_height()\n    plt.text(bar.get_x() + bar.get_width() / 2, yval, int(yval), va='bottom', ha='center', fontsize=12)\n\nplt.title('Barbie Sentiment Distribution')\nplt.xlabel('Sentiment')\nplt.ylabel('Count')\nplt.show()\n\nplt.figure(figsize=(8, 6))\nplt.scatter(barbie_df.index, np.random.rand(len(barbie_df)), c=barbie_df['cluster'])\nplt.title('Clustering of Barbie Sentiments')\nplt.xlabel('Review Index')\nplt.ylabel('Random Noise')\nplt.show()\n\n#data vis on oppenheimer\nplt.figure(figsize=(8, 6))\nsentiment_counts = oppenheimer_df['sentiment'].value_counts()\nbars = sentiment_counts.plot(kind='bar', color=['green', 'red', 'orange'])\n\n# Add count labels on bars\nfor bar in bars:\n    yval = bar.get_height()\n    plt.text(bar.get_x() + bar.get_width() / 2, yval, int(yval), va='bottom', ha='center', fontsize=12)\n\nplt.title('Oppenheimer Sentiment Distribution')\nplt.xlabel('Sentiment')\nplt.ylabel('Count')\nplt.show()\n\nplt.figure(figsize=(8, 6))\nplt.scatter(oppenheimer_df.index, np.random.rand(len(oppenheimer_df)), c=oppenheimer_df['cluster'])\nplt.title('Clustering of Oppenheimer Sentiments')\nplt.xlabel('Review Index')\nplt.ylabel('Random Noise')\nplt.show()\n------------------\n\n\n\u001b[0;31m---------------------------------------------------------------------------\u001b[0m\n\u001b[0;31mTypeError\u001b[0m                                 Traceback (most recent call last)\nCell \u001b[0;32mIn[4], line 7\u001b[0m\n\u001b[1;32m      4\u001b[0m bars \u001b[38;5;241m=\u001b[39m sentiment_counts\u001b[38;5;241m.\u001b[39mplot(kind\u001b[38;5;241m=\u001b[39m\u001b[38;5;124m'\u001b[39m\u001b[38;5;124mbar\u001b[39m\u001b[38;5;124m'\u001b[39m, color\u001b[38;5;241m=\u001b[39m[\u001b[38;5;124m'\u001b[39m\u001b[38;5;124mgreen\u001b[39m\u001b[38;5;124m'\u001b[39m, \u001b[38;5;124m'\u001b[39m\u001b[38;5;124mred\u001b[39m\u001b[38;5;124m'\u001b[39m, \u001b[38;5;124m'\u001b[39m\u001b[38;5;124morange\u001b[39m\u001b[38;5;124m'\u001b[39m])\n\u001b[1;32m      6\u001b[0m \u001b[38;5;66;03m# Add count labels on bars\u001b[39;00m\n\u001b[0;32m----> 7\u001b[0m \u001b[38;5;28;01mfor\u001b[39;00m bar \u001b[38;5;129;01min\u001b[39;00m bars:\n\u001b[1;32m      8\u001b[0m     yval \u001b[38;5;241m=\u001b[39m bar\u001b[38;5;241m.\u001b[39mget_height()\n\u001b[1;32m      9\u001b[0m     plt\u001b[38;5;241m.\u001b[39mtext(bar\u001b[38;5;241m.\u001b[39mget_x() \u001b[38;5;241m+\u001b[39m bar\u001b[38;5;241m.\u001b[39mget_width() \u001b[38;5;241m/\u001b[39m \u001b[38;5;241m2\u001b[39m, yval, \u001b[38;5;28mint\u001b[39m(yval), va\u001b[38;5;241m=\u001b[39m\u001b[38;5;124m'\u001b[39m\u001b[38;5;124mbottom\u001b[39m\u001b[38;5;124m'\u001b[39m, ha\u001b[38;5;241m=\u001b[39m\u001b[38;5;124m'\u001b[39m\u001b[38;5;124mcenter\u001b[39m\u001b[38;5;124m'\u001b[39m, fontsize\u001b[38;5;241m=\u001b[39m\u001b[38;5;241m12\u001b[39m)\n\n\u001b[0;31mTypeError\u001b[0m: 'Axes' object is not iterable\n",
     "output_type": "error",
     "traceback": [
      "\u001b[0;31m---------------------------------------------------------------------------\u001b[0m",
      "\u001b[0;31mCellExecutionError\u001b[0m                        Traceback (most recent call last)",
      "Cell \u001b[0;32mIn[4], line 2\u001b[0m\n\u001b[1;32m      1\u001b[0m notebook_path \u001b[39m=\u001b[39m \u001b[39m'\u001b[39m\u001b[39m./sentiment_analysis.ipynb\u001b[39m\u001b[39m'\u001b[39m\n\u001b[0;32m----> 2\u001b[0m source_code \u001b[39m=\u001b[39m run_notebook(notebook_path)\n",
      "Cell \u001b[0;32mIn[2], line 13\u001b[0m, in \u001b[0;36mrun_notebook\u001b[0;34m(notebook_path)\u001b[0m\n\u001b[1;32m     10\u001b[0m source, _ \u001b[39m=\u001b[39m exporter\u001b[39m.\u001b[39mfrom_notebook_node(nb)\n\u001b[1;32m     12\u001b[0m client \u001b[39m=\u001b[39m NotebookClient(nb)\n\u001b[0;32m---> 13\u001b[0m client\u001b[39m.\u001b[39mexecute()\n\u001b[1;32m     14\u001b[0m \u001b[39mreturn\u001b[39;00m source\n",
      "File \u001b[0;32m~/miniconda3/lib/python3.11/site-packages/jupyter_core/utils/__init__.py:158\u001b[0m, in \u001b[0;36mrun_sync.<locals>.wrapped\u001b[0;34m(*args, **kwargs)\u001b[0m\n\u001b[1;32m    156\u001b[0m     \u001b[39mif\u001b[39;00m name \u001b[39mnot\u001b[39;00m \u001b[39min\u001b[39;00m _runner_map:\n\u001b[1;32m    157\u001b[0m         _runner_map[name] \u001b[39m=\u001b[39m _TaskRunner()\n\u001b[0;32m--> 158\u001b[0m     \u001b[39mreturn\u001b[39;00m _runner_map[name]\u001b[39m.\u001b[39mrun(inner)\n\u001b[1;32m    159\u001b[0m \u001b[39mexcept\u001b[39;00m \u001b[39mRuntimeError\u001b[39;00m:\n\u001b[1;32m    160\u001b[0m     \u001b[39mpass\u001b[39;00m\n",
      "File \u001b[0;32m~/miniconda3/lib/python3.11/site-packages/jupyter_core/utils/__init__.py:125\u001b[0m, in \u001b[0;36m_TaskRunner.run\u001b[0;34m(self, coro)\u001b[0m\n\u001b[1;32m    123\u001b[0m         \u001b[39mself\u001b[39m\u001b[39m.\u001b[39m__runner_thread\u001b[39m.\u001b[39mstart()\n\u001b[1;32m    124\u001b[0m fut \u001b[39m=\u001b[39m asyncio\u001b[39m.\u001b[39mrun_coroutine_threadsafe(coro, \u001b[39mself\u001b[39m\u001b[39m.\u001b[39m__io_loop)\n\u001b[0;32m--> 125\u001b[0m \u001b[39mreturn\u001b[39;00m fut\u001b[39m.\u001b[39mresult(\u001b[39mNone\u001b[39;00m)\n",
      "File \u001b[0;32m~/miniconda3/lib/python3.11/concurrent/futures/_base.py:456\u001b[0m, in \u001b[0;36mFuture.result\u001b[0;34m(self, timeout)\u001b[0m\n\u001b[1;32m    454\u001b[0m     \u001b[39mraise\u001b[39;00m CancelledError()\n\u001b[1;32m    455\u001b[0m \u001b[39melif\u001b[39;00m \u001b[39mself\u001b[39m\u001b[39m.\u001b[39m_state \u001b[39m==\u001b[39m FINISHED:\n\u001b[0;32m--> 456\u001b[0m     \u001b[39mreturn\u001b[39;00m \u001b[39mself\u001b[39m\u001b[39m.\u001b[39m__get_result()\n\u001b[1;32m    457\u001b[0m \u001b[39melse\u001b[39;00m:\n\u001b[1;32m    458\u001b[0m     \u001b[39mraise\u001b[39;00m \u001b[39mTimeoutError\u001b[39;00m()\n",
      "File \u001b[0;32m~/miniconda3/lib/python3.11/concurrent/futures/_base.py:401\u001b[0m, in \u001b[0;36mFuture.__get_result\u001b[0;34m(self)\u001b[0m\n\u001b[1;32m    399\u001b[0m \u001b[39mif\u001b[39;00m \u001b[39mself\u001b[39m\u001b[39m.\u001b[39m_exception:\n\u001b[1;32m    400\u001b[0m     \u001b[39mtry\u001b[39;00m:\n\u001b[0;32m--> 401\u001b[0m         \u001b[39mraise\u001b[39;00m \u001b[39mself\u001b[39m\u001b[39m.\u001b[39m_exception\n\u001b[1;32m    402\u001b[0m     \u001b[39mfinally\u001b[39;00m:\n\u001b[1;32m    403\u001b[0m         \u001b[39m# Break a reference cycle with the exception in self._exception\u001b[39;00m\n\u001b[1;32m    404\u001b[0m         \u001b[39mself\u001b[39m \u001b[39m=\u001b[39m \u001b[39mNone\u001b[39;00m\n",
      "File \u001b[0;32m~/miniconda3/lib/python3.11/site-packages/nbclient/client.py:709\u001b[0m, in \u001b[0;36mNotebookClient.async_execute\u001b[0;34m(self, reset_kc, **kwargs)\u001b[0m\n\u001b[1;32m    702\u001b[0m             \u001b[39mraise\u001b[39;00m \u001b[39mRuntimeError\u001b[39;00m(\n\u001b[1;32m    703\u001b[0m                 \u001b[39m'\u001b[39m\u001b[39mKernel info received message content has no \u001b[39m\u001b[39m\"\u001b[39m\u001b[39mlanguage_info\u001b[39m\u001b[39m\"\u001b[39m\u001b[39m key. \u001b[39m\u001b[39m'\u001b[39m\n\u001b[1;32m    704\u001b[0m                 \u001b[39m\"\u001b[39m\u001b[39mContent is:\u001b[39m\u001b[39m\\n\u001b[39;00m\u001b[39m\"\u001b[39m \u001b[39m+\u001b[39m \u001b[39mstr\u001b[39m(info_msg[\u001b[39m\"\u001b[39m\u001b[39mcontent\u001b[39m\u001b[39m\"\u001b[39m])\n\u001b[1;32m    705\u001b[0m             )\n\u001b[1;32m    706\u001b[0m     \u001b[39mfor\u001b[39;00m index, cell \u001b[39min\u001b[39;00m \u001b[39menumerate\u001b[39m(\u001b[39mself\u001b[39m\u001b[39m.\u001b[39mnb\u001b[39m.\u001b[39mcells):\n\u001b[1;32m    707\u001b[0m         \u001b[39m# Ignore `'execution_count' in content` as it's always 1\u001b[39;00m\n\u001b[1;32m    708\u001b[0m         \u001b[39m# when store_history is False\u001b[39;00m\n\u001b[0;32m--> 709\u001b[0m         \u001b[39mawait\u001b[39;00m \u001b[39mself\u001b[39m\u001b[39m.\u001b[39masync_execute_cell(\n\u001b[1;32m    710\u001b[0m             cell, index, execution_count\u001b[39m=\u001b[39m\u001b[39mself\u001b[39m\u001b[39m.\u001b[39mcode_cells_executed \u001b[39m+\u001b[39m \u001b[39m1\u001b[39m\n\u001b[1;32m    711\u001b[0m         )\n\u001b[1;32m    712\u001b[0m     \u001b[39mself\u001b[39m\u001b[39m.\u001b[39mset_widgets_metadata()\n\u001b[1;32m    714\u001b[0m \u001b[39mreturn\u001b[39;00m \u001b[39mself\u001b[39m\u001b[39m.\u001b[39mnb\n",
      "File \u001b[0;32m~/miniconda3/lib/python3.11/site-packages/nbclient/client.py:1062\u001b[0m, in \u001b[0;36mNotebookClient.async_execute_cell\u001b[0;34m(self, cell, cell_index, execution_count, store_history)\u001b[0m\n\u001b[1;32m   1058\u001b[0m                 new_outputs\u001b[39m.\u001b[39minsert(i, stdout)\n\u001b[1;32m   1060\u001b[0m     cell\u001b[39m.\u001b[39moutputs \u001b[39m=\u001b[39m new_outputs\n\u001b[0;32m-> 1062\u001b[0m \u001b[39mawait\u001b[39;00m \u001b[39mself\u001b[39m\u001b[39m.\u001b[39m_check_raise_for_error(cell, cell_index, exec_reply)\n\u001b[1;32m   1064\u001b[0m \u001b[39mself\u001b[39m\u001b[39m.\u001b[39mnb[\u001b[39m\"\u001b[39m\u001b[39mcells\u001b[39m\u001b[39m\"\u001b[39m][cell_index] \u001b[39m=\u001b[39m cell\n\u001b[1;32m   1065\u001b[0m \u001b[39mreturn\u001b[39;00m cell\n",
      "File \u001b[0;32m~/miniconda3/lib/python3.11/site-packages/nbclient/client.py:918\u001b[0m, in \u001b[0;36mNotebookClient._check_raise_for_error\u001b[0;34m(self, cell, cell_index, exec_reply)\u001b[0m\n\u001b[1;32m    914\u001b[0m \u001b[39mawait\u001b[39;00m run_hook(\n\u001b[1;32m    915\u001b[0m     \u001b[39mself\u001b[39m\u001b[39m.\u001b[39mon_cell_error, cell\u001b[39m=\u001b[39mcell, cell_index\u001b[39m=\u001b[39mcell_index, execute_reply\u001b[39m=\u001b[39mexec_reply\n\u001b[1;32m    916\u001b[0m )\n\u001b[1;32m    917\u001b[0m \u001b[39mif\u001b[39;00m \u001b[39mnot\u001b[39;00m cell_allows_errors:\n\u001b[0;32m--> 918\u001b[0m     \u001b[39mraise\u001b[39;00m CellExecutionError\u001b[39m.\u001b[39mfrom_cell_and_msg(cell, exec_reply_content)\n",
      "\u001b[0;31mCellExecutionError\u001b[0m: An error occurred while executing the following cell:\n------------------\n#data vis on barbie\nplt.figure(figsize=(8, 6))\nsentiment_counts = barbie_df['sentiment'].value_counts()\nbars = sentiment_counts.plot(kind='bar', color=['green', 'red', 'orange'])\n\n# Add count labels on bars\nfor bar in bars:\n    yval = bar.get_height()\n    plt.text(bar.get_x() + bar.get_width() / 2, yval, int(yval), va='bottom', ha='center', fontsize=12)\n\nplt.title('Barbie Sentiment Distribution')\nplt.xlabel('Sentiment')\nplt.ylabel('Count')\nplt.show()\n\nplt.figure(figsize=(8, 6))\nplt.scatter(barbie_df.index, np.random.rand(len(barbie_df)), c=barbie_df['cluster'])\nplt.title('Clustering of Barbie Sentiments')\nplt.xlabel('Review Index')\nplt.ylabel('Random Noise')\nplt.show()\n\n#data vis on oppenheimer\nplt.figure(figsize=(8, 6))\nsentiment_counts = oppenheimer_df['sentiment'].value_counts()\nbars = sentiment_counts.plot(kind='bar', color=['green', 'red', 'orange'])\n\n# Add count labels on bars\nfor bar in bars:\n    yval = bar.get_height()\n    plt.text(bar.get_x() + bar.get_width() / 2, yval, int(yval), va='bottom', ha='center', fontsize=12)\n\nplt.title('Oppenheimer Sentiment Distribution')\nplt.xlabel('Sentiment')\nplt.ylabel('Count')\nplt.show()\n\nplt.figure(figsize=(8, 6))\nplt.scatter(oppenheimer_df.index, np.random.rand(len(oppenheimer_df)), c=oppenheimer_df['cluster'])\nplt.title('Clustering of Oppenheimer Sentiments')\nplt.xlabel('Review Index')\nplt.ylabel('Random Noise')\nplt.show()\n------------------\n\n\n\u001b[0;31m---------------------------------------------------------------------------\u001b[0m\n\u001b[0;31mTypeError\u001b[0m                                 Traceback (most recent call last)\nCell \u001b[0;32mIn[4], line 7\u001b[0m\n\u001b[1;32m      4\u001b[0m bars \u001b[38;5;241m=\u001b[39m sentiment_counts\u001b[38;5;241m.\u001b[39mplot(kind\u001b[38;5;241m=\u001b[39m\u001b[38;5;124m'\u001b[39m\u001b[38;5;124mbar\u001b[39m\u001b[38;5;124m'\u001b[39m, color\u001b[38;5;241m=\u001b[39m[\u001b[38;5;124m'\u001b[39m\u001b[38;5;124mgreen\u001b[39m\u001b[38;5;124m'\u001b[39m, \u001b[38;5;124m'\u001b[39m\u001b[38;5;124mred\u001b[39m\u001b[38;5;124m'\u001b[39m, \u001b[38;5;124m'\u001b[39m\u001b[38;5;124morange\u001b[39m\u001b[38;5;124m'\u001b[39m])\n\u001b[1;32m      6\u001b[0m \u001b[38;5;66;03m# Add count labels on bars\u001b[39;00m\n\u001b[0;32m----> 7\u001b[0m \u001b[38;5;28;01mfor\u001b[39;00m bar \u001b[38;5;129;01min\u001b[39;00m bars:\n\u001b[1;32m      8\u001b[0m     yval \u001b[38;5;241m=\u001b[39m bar\u001b[38;5;241m.\u001b[39mget_height()\n\u001b[1;32m      9\u001b[0m     plt\u001b[38;5;241m.\u001b[39mtext(bar\u001b[38;5;241m.\u001b[39mget_x() \u001b[38;5;241m+\u001b[39m bar\u001b[38;5;241m.\u001b[39mget_width() \u001b[38;5;241m/\u001b[39m \u001b[38;5;241m2\u001b[39m, yval, \u001b[38;5;28mint\u001b[39m(yval), va\u001b[38;5;241m=\u001b[39m\u001b[38;5;124m'\u001b[39m\u001b[38;5;124mbottom\u001b[39m\u001b[38;5;124m'\u001b[39m, ha\u001b[38;5;241m=\u001b[39m\u001b[38;5;124m'\u001b[39m\u001b[38;5;124mcenter\u001b[39m\u001b[38;5;124m'\u001b[39m, fontsize\u001b[38;5;241m=\u001b[39m\u001b[38;5;241m12\u001b[39m)\n\n\u001b[0;31mTypeError\u001b[0m: 'Axes' object is not iterable\n"
     ]
    }
   ],
   "source": [
    "notebook_path = './sentiment_analysis.ipynb'\n",
    "source_code = run_notebook(notebook_path)"
   ]
  },
  {
   "attachments": {},
   "cell_type": "markdown",
   "metadata": {},
   "source": [
    "# Run Statistical Analysis"
   ]
  },
  {
   "cell_type": "code",
   "execution_count": null,
   "metadata": {},
   "outputs": [],
   "source": [
    "notebook_path = './statistical_tests.ipynb'\n",
    "source_code = run_notebook(notebook_path)"
   ]
  }
 ],
 "metadata": {
  "kernelspec": {
   "display_name": "base",
   "language": "python",
   "name": "python3"
  },
  "language_info": {
   "codemirror_mode": {
    "name": "ipython",
    "version": 3
   },
   "file_extension": ".py",
   "mimetype": "text/x-python",
   "name": "python",
   "nbconvert_exporter": "python",
   "pygments_lexer": "ipython3",
   "version": "3.11.5 (main, Sep 11 2023, 08:19:27) [Clang 14.0.6 ]"
  },
  "orig_nbformat": 4,
  "vscode": {
   "interpreter": {
    "hash": "bae868eca559e6fdaaf59ca8923d9e779ed5e59c28ce3970bf9171129c96e6a8"
   }
  }
 },
 "nbformat": 4,
 "nbformat_minor": 2
}
